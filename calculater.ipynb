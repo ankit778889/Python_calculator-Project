{
 "cells": [
  {
   "cell_type": "code",
   "execution_count": 1,
   "id": "f9e4ea39-bd32-4091-8f65-ed94b5dc8811",
   "metadata": {},
   "outputs": [],
   "source": [
    "class calci:\n",
    "    \n",
    "    def string(self,c1,c2):\n",
    "        c1 = c1.split('.')\n",
    "        c2 = c2.split('.')\n",
    "        print(c1)\n",
    "        print(c2)\n",
    "        if len(c1)==1 and len(c2) == 1:\n",
    "            return ( int(c1[0]) , int(c2[0]) )\n",
    "        else:\n",
    "            if len(c1) == 1 and len(c2)!=1:\n",
    "                return float(c1[0]) , float(c2[0]+'.'+c2[1])\n",
    "            else:\n",
    "                return float(c1[0]+'.'+c1[1]) , float(c2[0])\n",
    "\n",
    "    def add(self,a,b):\n",
    "        a , b  = self.string(a,b)\n",
    "        t = a+b\n",
    "        t = str(t)\n",
    "        t = t.split('.')\n",
    "        if len(t) == 1:\n",
    "            return int(t[0])\n",
    "        return float(t[0]+'.'+t[1][:3])\n",
    "        \n",
    "    def sub(self,a,b):\n",
    "        a , b  = self.string(a,b)\n",
    "        t = a - b\n",
    "        t = str(t)\n",
    "        t = t.split('.')\n",
    "        if len(t) == 1:\n",
    "            return int(t[0])\n",
    "        return float(t[0]+'.'+t[1][:3])\n",
    "    \n",
    "    def mul(self,a,b):\n",
    "        a , b  = self.string(a,b)\n",
    "        return a * b\n",
    " \n",
    "    \n",
    "    def div(self,a,b):\n",
    "        if b==0:\n",
    "            return \"error\"\n",
    "        return a/b\n",
    "    \n",
    "    def percentage(self,a,b):\n",
    "        per = input(\"How Much Percentage You Want \")\n",
    "        print(\"Percentage is = \", (self.add(a,b) * float(per) )/100)"
   ]
  },
  {
   "cell_type": "code",
   "execution_count": 2,
   "id": "4173b11b-856f-4e81-9be1-2c4b8296c566",
   "metadata": {},
   "outputs": [
    {
     "name": "stdin",
     "output_type": "stream",
     "text": [
      "Enter your First Number :  4\n",
      "Enter your Second Number :  5\n",
      "Enter What Do You Want to Do:\n",
      " 1 for Addition \n",
      " 2 for Subtraction\n",
      " 3 for Multiplication \n",
      " 4 for Division \n",
      " 5 for Percentage \n",
      " 6 for Exit \n",
      " 1\n"
     ]
    },
    {
     "name": "stdout",
     "output_type": "stream",
     "text": [
      "['4']\n",
      "['5']\n",
      "Addition is =   9\n"
     ]
    },
    {
     "name": "stdin",
     "output_type": "stream",
     "text": [
      "Enter your First Number :  78\n",
      "Enter your Second Number :  54\n",
      "Enter What Do You Want to Do:\n",
      " 1 for Addition \n",
      " 2 for Subtraction\n",
      " 3 for Multiplication \n",
      " 4 for Division \n",
      " 5 for Percentage \n",
      " 6 for Exit \n",
      " 3\n"
     ]
    },
    {
     "name": "stdout",
     "output_type": "stream",
     "text": [
      "['78']\n",
      "['54']\n",
      "Multiplication is =   4212\n"
     ]
    },
    {
     "name": "stdin",
     "output_type": "stream",
     "text": [
      "Enter your First Number :  45\n",
      "Enter your Second Number :  65\n",
      "Enter What Do You Want to Do:\n",
      " 1 for Addition \n",
      " 2 for Subtraction\n",
      " 3 for Multiplication \n",
      " 4 for Division \n",
      " 5 for Percentage \n",
      " 6 for Exit \n",
      " 4\n"
     ]
    },
    {
     "ename": "TypeError",
     "evalue": "unsupported operand type(s) for /: 'str' and 'str'",
     "output_type": "error",
     "traceback": [
      "\u001b[1;31m---------------------------------------------------------------------------\u001b[0m",
      "\u001b[1;31mTypeError\u001b[0m                                 Traceback (most recent call last)",
      "Cell \u001b[1;32mIn[2], line 15\u001b[0m\n\u001b[0;32m     13\u001b[0m     \u001b[38;5;28mprint\u001b[39m(\u001b[38;5;124m\"\u001b[39m\u001b[38;5;124mMultiplication is =  \u001b[39m\u001b[38;5;124m\"\u001b[39m, \u001b[38;5;28mobject\u001b[39m\u001b[38;5;241m.\u001b[39mmul(n1,n2))\n\u001b[0;32m     14\u001b[0m \u001b[38;5;28;01melif\u001b[39;00m \u001b[38;5;28mint\u001b[39m(Message) \u001b[38;5;241m==\u001b[39m \u001b[38;5;241m4\u001b[39m:\n\u001b[1;32m---> 15\u001b[0m     \u001b[38;5;28mprint\u001b[39m(\u001b[38;5;124m\"\u001b[39m\u001b[38;5;124mDivision is =  \u001b[39m\u001b[38;5;124m\"\u001b[39m, \u001b[38;5;28mobject\u001b[39m\u001b[38;5;241m.\u001b[39mdiv(n1,n2))\n\u001b[0;32m     16\u001b[0m \u001b[38;5;28;01melif\u001b[39;00m \u001b[38;5;28mint\u001b[39m(Message) \u001b[38;5;241m==\u001b[39m \u001b[38;5;241m5\u001b[39m:\n\u001b[0;32m     17\u001b[0m     \u001b[38;5;28mobject\u001b[39m\u001b[38;5;241m.\u001b[39mpercentage(n1,n2)\n",
      "Cell \u001b[1;32mIn[1], line 42\u001b[0m, in \u001b[0;36mcalci.div\u001b[1;34m(self, a, b)\u001b[0m\n\u001b[0;32m     40\u001b[0m \u001b[38;5;28;01mif\u001b[39;00m b\u001b[38;5;241m==\u001b[39m\u001b[38;5;241m0\u001b[39m:\n\u001b[0;32m     41\u001b[0m     \u001b[38;5;28;01mreturn\u001b[39;00m \u001b[38;5;124m\"\u001b[39m\u001b[38;5;124merror\u001b[39m\u001b[38;5;124m\"\u001b[39m\n\u001b[1;32m---> 42\u001b[0m \u001b[38;5;28;01mreturn\u001b[39;00m a\u001b[38;5;241m/\u001b[39mb\n",
      "\u001b[1;31mTypeError\u001b[0m: unsupported operand type(s) for /: 'str' and 'str'"
     ]
    }
   ],
   "source": [
    "object = calci()\n",
    "while(True):\n",
    "    n1 = input(\"Enter your First Number : \")\n",
    "    n2 = input(\"Enter your Second Number : \")\n",
    "\n",
    "    Message = input(\"Enter What Do You Want to Do:\\n 1 for Addition \\n 2 for Subtraction\\n 3 for Multiplication \\n 4 for Division \\n 5 for Percentage \\n 6 for Exit \\n\")\n",
    "\n",
    "    if int(Message) == 1:\n",
    "        print(\"Addition is =  \" , object.add(n1,n2))\n",
    "    elif int(Message) == 2:\n",
    "        print(\"Subtraction is =  \", object.sub(n1,n2))\n",
    "    elif int(Message) == 3:\n",
    "        print(\"Multiplication is =  \", object.mul(n1,n2))\n",
    "    elif int(Message) == 4:\n",
    "        print(\"Division is =  \", object.div(n1,n2))\n",
    "    elif int(Message) == 5:\n",
    "        object.percentage(n1,n2)\n",
    "    else:\n",
    "        print(\"Ended Succcessfully!!!!\")"
   ]
  },
  {
   "cell_type": "code",
   "execution_count": null,
   "id": "c4dd5666-6384-4806-939f-599686e223cd",
   "metadata": {},
   "outputs": [],
   "source": []
  }
 ],
 "metadata": {
  "kernelspec": {
   "display_name": "Python 3 (ipykernel)",
   "language": "python",
   "name": "python3"
  },
  "language_info": {
   "codemirror_mode": {
    "name": "ipython",
    "version": 3
   },
   "file_extension": ".py",
   "mimetype": "text/x-python",
   "name": "python",
   "nbconvert_exporter": "python",
   "pygments_lexer": "ipython3",
   "version": "3.11.7"
  }
 },
 "nbformat": 4,
 "nbformat_minor": 5
}
